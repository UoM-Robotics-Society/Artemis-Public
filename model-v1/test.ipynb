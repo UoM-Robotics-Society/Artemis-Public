{
 "cells": [
  {
   "cell_type": "markdown",
   "metadata": {},
   "source": [
    "# Install and import libraries"
   ]
  },
  {
   "cell_type": "code",
   "execution_count": 20,
   "metadata": {},
   "outputs": [
    {
     "name": "stdout",
     "output_type": "stream",
     "text": [
      "Requirement already satisfied: pydot in c:\\users\\willi\\desktop\\uni\\3rd_year\\nlp\\cw1\\.conda\\lib\\site-packages (3.0.2)\n",
      "Requirement already satisfied: pyparsing>=3.0.9 in c:\\users\\willi\\desktop\\uni\\3rd_year\\nlp\\cw1\\.conda\\lib\\site-packages (from pydot) (3.2.0)\n",
      "Note: you may need to restart the kernel to use updated packages.\n",
      "Requirement already satisfied: tensorflow in c:\\users\\willi\\desktop\\uni\\3rd_year\\nlp\\cw1\\.conda\\lib\\site-packages (2.17.0)Note: you may need to restart the kernel to use updated packages.\n",
      "\n",
      "Requirement already satisfied: tensorflow-intel==2.17.0 in c:\\users\\willi\\desktop\\uni\\3rd_year\\nlp\\cw1\\.conda\\lib\\site-packages (from tensorflow) (2.17.0)\n",
      "Requirement already satisfied: absl-py>=1.0.0 in c:\\users\\willi\\desktop\\uni\\3rd_year\\nlp\\cw1\\.conda\\lib\\site-packages (from tensorflow-intel==2.17.0->tensorflow) (2.1.0)\n",
      "Requirement already satisfied: astunparse>=1.6.0 in c:\\users\\willi\\desktop\\uni\\3rd_year\\nlp\\cw1\\.conda\\lib\\site-packages (from tensorflow-intel==2.17.0->tensorflow) (1.6.3)\n",
      "Requirement already satisfied: flatbuffers>=24.3.25 in c:\\users\\willi\\desktop\\uni\\3rd_year\\nlp\\cw1\\.conda\\lib\\site-packages (from tensorflow-intel==2.17.0->tensorflow) (24.3.25)\n",
      "Requirement already satisfied: gast!=0.5.0,!=0.5.1,!=0.5.2,>=0.2.1 in c:\\users\\willi\\desktop\\uni\\3rd_year\\nlp\\cw1\\.conda\\lib\\site-packages (from tensorflow-intel==2.17.0->tensorflow) (0.6.0)\n",
      "Requirement already satisfied: google-pasta>=0.1.1 in c:\\users\\willi\\desktop\\uni\\3rd_year\\nlp\\cw1\\.conda\\lib\\site-packages (from tensorflow-intel==2.17.0->tensorflow) (0.2.0)\n",
      "Requirement already satisfied: h5py>=3.10.0 in c:\\users\\willi\\desktop\\uni\\3rd_year\\nlp\\cw1\\.conda\\lib\\site-packages (from tensorflow-intel==2.17.0->tensorflow) (3.12.1)\n",
      "Requirement already satisfied: libclang>=13.0.0 in c:\\users\\willi\\desktop\\uni\\3rd_year\\nlp\\cw1\\.conda\\lib\\site-packages (from tensorflow-intel==2.17.0->tensorflow) (18.1.1)\n",
      "Requirement already satisfied: ml-dtypes<0.5.0,>=0.3.1 in c:\\users\\willi\\desktop\\uni\\3rd_year\\nlp\\cw1\\.conda\\lib\\site-packages (from tensorflow-intel==2.17.0->tensorflow) (0.4.1)\n",
      "Requirement already satisfied: opt-einsum>=2.3.2 in c:\\users\\willi\\desktop\\uni\\3rd_year\\nlp\\cw1\\.conda\\lib\\site-packages (from tensorflow-intel==2.17.0->tensorflow) (3.4.0)\n",
      "Requirement already satisfied: packaging in c:\\users\\willi\\desktop\\uni\\3rd_year\\nlp\\cw1\\.conda\\lib\\site-packages (from tensorflow-intel==2.17.0->tensorflow) (24.1)\n",
      "Requirement already satisfied: protobuf!=4.21.0,!=4.21.1,!=4.21.2,!=4.21.3,!=4.21.4,!=4.21.5,<5.0.0dev,>=3.20.3 in c:\\users\\willi\\desktop\\uni\\3rd_year\\nlp\\cw1\\.conda\\lib\\site-packages (from tensorflow-intel==2.17.0->tensorflow) (4.25.5)\n",
      "Requirement already satisfied: requests<3,>=2.21.0 in c:\\users\\willi\\desktop\\uni\\3rd_year\\nlp\\cw1\\.conda\\lib\\site-packages (from tensorflow-intel==2.17.0->tensorflow) (2.32.3)\n",
      "Requirement already satisfied: setuptools in c:\\users\\willi\\desktop\\uni\\3rd_year\\nlp\\cw1\\.conda\\lib\\site-packages (from tensorflow-intel==2.17.0->tensorflow) (75.1.0)\n",
      "Requirement already satisfied: six>=1.12.0 in c:\\users\\willi\\desktop\\uni\\3rd_year\\nlp\\cw1\\.conda\\lib\\site-packages (from tensorflow-intel==2.17.0->tensorflow) (1.16.0)\n",
      "Requirement already satisfied: termcolor>=1.1.0 in c:\\users\\willi\\desktop\\uni\\3rd_year\\nlp\\cw1\\.conda\\lib\\site-packages (from tensorflow-intel==2.17.0->tensorflow) (2.5.0)\n",
      "Requirement already satisfied: typing-extensions>=3.6.6 in c:\\users\\willi\\desktop\\uni\\3rd_year\\nlp\\cw1\\.conda\\lib\\site-packages (from tensorflow-intel==2.17.0->tensorflow) (4.11.0)\n",
      "Requirement already satisfied: wrapt>=1.11.0 in c:\\users\\willi\\desktop\\uni\\3rd_year\\nlp\\cw1\\.conda\\lib\\site-packages (from tensorflow-intel==2.17.0->tensorflow) (1.16.0)\n",
      "Requirement already satisfied: grpcio<2.0,>=1.24.3 in c:\\users\\willi\\desktop\\uni\\3rd_year\\nlp\\cw1\\.conda\\lib\\site-packages (from tensorflow-intel==2.17.0->tensorflow) (1.67.0)\n",
      "Requirement already satisfied: tensorboard<2.18,>=2.17 in c:\\users\\willi\\desktop\\uni\\3rd_year\\nlp\\cw1\\.conda\\lib\\site-packages (from tensorflow-intel==2.17.0->tensorflow) (2.17.1)\n",
      "Requirement already satisfied: keras>=3.2.0 in c:\\users\\willi\\desktop\\uni\\3rd_year\\nlp\\cw1\\.conda\\lib\\site-packages (from tensorflow-intel==2.17.0->tensorflow) (3.6.0)\n",
      "Requirement already satisfied: tensorflow-io-gcs-filesystem>=0.23.1 in c:\\users\\willi\\desktop\\uni\\3rd_year\\nlp\\cw1\\.conda\\lib\\site-packages (from tensorflow-intel==2.17.0->tensorflow) (0.31.0)\n",
      "Requirement already satisfied: numpy<2.0.0,>=1.23.5 in c:\\users\\willi\\desktop\\uni\\3rd_year\\nlp\\cw1\\.conda\\lib\\site-packages (from tensorflow-intel==2.17.0->tensorflow) (1.26.4)\n",
      "Requirement already satisfied: wheel<1.0,>=0.23.0 in c:\\users\\willi\\desktop\\uni\\3rd_year\\nlp\\cw1\\.conda\\lib\\site-packages (from astunparse>=1.6.0->tensorflow-intel==2.17.0->tensorflow) (0.44.0)\n",
      "Requirement already satisfied: rich in c:\\users\\willi\\desktop\\uni\\3rd_year\\nlp\\cw1\\.conda\\lib\\site-packages (from keras>=3.2.0->tensorflow-intel==2.17.0->tensorflow) (13.9.2)\n",
      "Requirement already satisfied: namex in c:\\users\\willi\\desktop\\uni\\3rd_year\\nlp\\cw1\\.conda\\lib\\site-packages (from keras>=3.2.0->tensorflow-intel==2.17.0->tensorflow) (0.0.8)\n",
      "Requirement already satisfied: optree in c:\\users\\willi\\desktop\\uni\\3rd_year\\nlp\\cw1\\.conda\\lib\\site-packages (from keras>=3.2.0->tensorflow-intel==2.17.0->tensorflow) (0.13.0)\n",
      "Requirement already satisfied: charset-normalizer<4,>=2 in c:\\users\\willi\\desktop\\uni\\3rd_year\\nlp\\cw1\\.conda\\lib\\site-packages (from requests<3,>=2.21.0->tensorflow-intel==2.17.0->tensorflow) (3.4.0)\n",
      "Requirement already satisfied: idna<4,>=2.5 in c:\\users\\willi\\desktop\\uni\\3rd_year\\nlp\\cw1\\.conda\\lib\\site-packages (from requests<3,>=2.21.0->tensorflow-intel==2.17.0->tensorflow) (3.10)\n",
      "Requirement already satisfied: urllib3<3,>=1.21.1 in c:\\users\\willi\\desktop\\uni\\3rd_year\\nlp\\cw1\\.conda\\lib\\site-packages (from requests<3,>=2.21.0->tensorflow-intel==2.17.0->tensorflow) (2.2.3)\n",
      "Requirement already satisfied: certifi>=2017.4.17 in c:\\users\\willi\\desktop\\uni\\3rd_year\\nlp\\cw1\\.conda\\lib\\site-packages (from requests<3,>=2.21.0->tensorflow-intel==2.17.0->tensorflow) (2024.8.30)\n",
      "Requirement already satisfied: markdown>=2.6.8 in c:\\users\\willi\\desktop\\uni\\3rd_year\\nlp\\cw1\\.conda\\lib\\site-packages (from tensorboard<2.18,>=2.17->tensorflow-intel==2.17.0->tensorflow) (3.7)\n",
      "Requirement already satisfied: tensorboard-data-server<0.8.0,>=0.7.0 in c:\\users\\willi\\desktop\\uni\\3rd_year\\nlp\\cw1\\.conda\\lib\\site-packages (from tensorboard<2.18,>=2.17->tensorflow-intel==2.17.0->tensorflow) (0.7.2)\n",
      "Requirement already satisfied: werkzeug>=1.0.1 in c:\\users\\willi\\desktop\\uni\\3rd_year\\nlp\\cw1\\.conda\\lib\\site-packages (from tensorboard<2.18,>=2.17->tensorflow-intel==2.17.0->tensorflow) (3.0.4)\n",
      "Requirement already satisfied: MarkupSafe>=2.1.1 in c:\\users\\willi\\desktop\\uni\\3rd_year\\nlp\\cw1\\.conda\\lib\\site-packages (from werkzeug>=1.0.1->tensorboard<2.18,>=2.17->tensorflow-intel==2.17.0->tensorflow) (3.0.2)\n",
      "Requirement already satisfied: markdown-it-py>=2.2.0 in c:\\users\\willi\\desktop\\uni\\3rd_year\\nlp\\cw1\\.conda\\lib\\site-packages (from rich->keras>=3.2.0->tensorflow-intel==2.17.0->tensorflow) (3.0.0)\n",
      "Requirement already satisfied: pygments<3.0.0,>=2.13.0 in c:\\users\\willi\\desktop\\uni\\3rd_year\\nlp\\cw1\\.conda\\lib\\site-packages (from rich->keras>=3.2.0->tensorflow-intel==2.17.0->tensorflow) (2.15.1)\n",
      "Requirement already satisfied: mdurl~=0.1 in c:\\users\\willi\\desktop\\uni\\3rd_year\\nlp\\cw1\\.conda\\lib\\site-packages (from markdown-it-py>=2.2.0->rich->keras>=3.2.0->tensorflow-intel==2.17.0->tensorflow) (0.1.2)\n",
      "Requirement already satisfied: scikit-learn in c:\\users\\willi\\desktop\\uni\\3rd_year\\nlp\\cw1\\.conda\\lib\\site-packages (1.5.2)\n",
      "Requirement already satisfied: numpy>=1.19.5 in c:\\users\\willi\\desktop\\uni\\3rd_year\\nlp\\cw1\\.conda\\lib\\site-packages (from scikit-learn) (1.26.4)\n",
      "Requirement already satisfied: scipy>=1.6.0 in c:\\users\\willi\\desktop\\uni\\3rd_year\\nlp\\cw1\\.conda\\lib\\site-packages (from scikit-learn) (1.13.1)\n",
      "Requirement already satisfied: joblib>=1.2.0 in c:\\users\\willi\\desktop\\uni\\3rd_year\\nlp\\cw1\\.conda\\lib\\site-packages (from scikit-learn) (1.4.2)\n",
      "Requirement already satisfied: threadpoolctl>=3.1.0 in c:\\users\\willi\\desktop\\uni\\3rd_year\\nlp\\cw1\\.conda\\lib\\site-packages (from scikit-learn) (3.5.0)\n",
      "Note: you may need to restart the kernel to use updated packages.\n",
      "Collecting xgboost\n",
      "  Downloading xgboost-2.1.2-py3-none-win_amd64.whl.metadata (2.1 kB)\n",
      "Requirement already satisfied: numpy in c:\\users\\willi\\desktop\\uni\\3rd_year\\nlp\\cw1\\.conda\\lib\\site-packages (from xgboost) (1.26.4)\n",
      "Requirement already satisfied: scipy in c:\\users\\willi\\desktop\\uni\\3rd_year\\nlp\\cw1\\.conda\\lib\\site-packages (from xgboost) (1.13.1)\n",
      "Downloading xgboost-2.1.2-py3-none-win_amd64.whl (124.9 MB)\n",
      "   ---------------------------------------- 0.0/124.9 MB ? eta -:--:--\n",
      "   - -------------------------------------- 5.8/124.9 MB 44.0 MB/s eta 0:00:03\n",
      "   ----- ---------------------------------- 16.5/124.9 MB 45.1 MB/s eta 0:00:03\n",
      "   --------- ------------------------------ 28.6/124.9 MB 47.7 MB/s eta 0:00:03\n",
      "   ------------- -------------------------- 41.2/124.9 MB 50.3 MB/s eta 0:00:02\n",
      "   ---------------- ----------------------- 52.7/124.9 MB 50.8 MB/s eta 0:00:02\n",
      "   -------------------- ------------------- 63.4/124.9 MB 51.2 MB/s eta 0:00:02\n",
      "   ------------------------ --------------- 75.2/124.9 MB 51.6 MB/s eta 0:00:01\n",
      "   --------------------------- ------------ 85.7/124.9 MB 51.6 MB/s eta 0:00:01\n",
      "   ------------------------------- -------- 97.3/124.9 MB 51.3 MB/s eta 0:00:01\n",
      "   --------------------------------- ----- 108.3/124.9 MB 51.2 MB/s eta 0:00:01\n",
      "   ------------------------------------- - 119.3/124.9 MB 51.1 MB/s eta 0:00:01\n",
      "   --------------------------------------  124.8/124.9 MB 51.1 MB/s eta 0:00:01\n",
      "   --------------------------------------  124.8/124.9 MB 51.1 MB/s eta 0:00:01\n",
      "   --------------------------------------  124.8/124.9 MB 51.1 MB/s eta 0:00:01\n",
      "   --------------------------------------  124.8/124.9 MB 51.1 MB/s eta 0:00:01\n",
      "   --------------------------------------  124.8/124.9 MB 51.1 MB/s eta 0:00:01\n",
      "   --------------------------------------  124.8/124.9 MB 51.1 MB/s eta 0:00:01\n",
      "   --------------------------------------  124.8/124.9 MB 51.1 MB/s eta 0:00:01\n",
      "   --------------------------------------  124.8/124.9 MB 51.1 MB/s eta 0:00:01\n",
      "   --------------------------------------  124.8/124.9 MB 51.1 MB/s eta 0:00:01\n",
      "   --------------------------------------  124.8/124.9 MB 51.1 MB/s eta 0:00:01\n",
      "   --------------------------------------  124.8/124.9 MB 51.1 MB/s eta 0:00:01\n",
      "   --------------------------------------  124.8/124.9 MB 51.1 MB/s eta 0:00:01\n",
      "   --------------------------------------  124.8/124.9 MB 51.1 MB/s eta 0:00:01\n",
      "   --------------------------------------  124.8/124.9 MB 51.1 MB/s eta 0:00:01\n",
      "   --------------------------------------  124.8/124.9 MB 51.1 MB/s eta 0:00:01\n",
      "   --------------------------------------  124.8/124.9 MB 51.1 MB/s eta 0:00:01\n",
      "   --------------------------------------  124.8/124.9 MB 51.1 MB/s eta 0:00:01\n",
      "   --------------------------------------  124.8/124.9 MB 51.1 MB/s eta 0:00:01\n",
      "   --------------------------------------  124.8/124.9 MB 51.1 MB/s eta 0:00:01\n",
      "   --------------------------------------  124.8/124.9 MB 51.1 MB/s eta 0:00:01\n",
      "   --------------------------------------  124.8/124.9 MB 51.1 MB/s eta 0:00:01\n",
      "   --------------------------------------- 124.9/124.9 MB 17.9 MB/s eta 0:00:00\n",
      "Installing collected packages: xgboost\n",
      "Successfully installed xgboost-2.1.2\n",
      "Note: you may need to restart the kernel to use updated packages.\n"
     ]
    }
   ],
   "source": [
    "%pip install pydot\n",
    "%pip install tensorflow\n",
    "%pip install scikit-learn\n",
    "%pip install xgboost"
   ]
  },
  {
   "cell_type": "code",
   "execution_count": 10,
   "metadata": {},
   "outputs": [],
   "source": [
    "import matplotlib.pyplot as plt\n",
    "import numpy as np\n",
    "import pandas as pd\n",
    "import pickle\n",
    "import time\n",
    "\n",
    "from sklearn.preprocessing import StandardScaler\n",
    "from sklearn.model_selection import train_test_split\n",
    "\n",
    "from tensorflow.keras.models import Sequential\n",
    "from tensorflow.keras.layers import Dense, Dropout, BatchNormalization\n",
    "from tensorflow.keras.optimizers import Adam\n",
    "from tensorflow.keras.callbacks import EarlyStopping\n",
    "\n",
    "from xgboost import XGBClassifier\n",
    "\n",
    "from pathlib import Path\n",
    "\n",
    "from constants import (\n",
    "    DATA_INPUT_PATH,\n",
    "    CLASSES,\n",
    "    MODEL_PATH,\n",
    "    METADATA_PATH,\n",
    ")"
   ]
  },
  {
   "cell_type": "markdown",
   "metadata": {},
   "source": [
    "# Read the files in the data dir"
   ]
  },
  {
   "cell_type": "code",
   "execution_count": 11,
   "metadata": {},
   "outputs": [
    {
     "name": "stdout",
     "output_type": "stream",
     "text": [
      "[WindowsPath('data/7_4.csv'), WindowsPath('data/7_9_will.csv')]\n"
     ]
    }
   ],
   "source": [
    "# Read all of the files in the data folder\n",
    "files_in_folder = Path(DATA_INPUT_PATH).rglob(\"*.csv\")\n",
    "\n",
    "files = [x for x in files_in_folder]\n",
    "print([file for file in files])"
   ]
  },
  {
   "cell_type": "markdown",
   "metadata": {},
   "source": [
    "## Convert .csv(s) to dataframes and concatenate"
   ]
  },
  {
   "cell_type": "code",
   "execution_count": 22,
   "metadata": {},
   "outputs": [
    {
     "name": "stdout",
     "output_type": "stream",
     "text": [
      "Shape of dataframe before removing duplicates (101633, 17)\n",
      "Shape of dataframe after removing duplicates (101633, 17)\n"
     ]
    }
   ],
   "source": [
    "# Read the data from the files\n",
    "dfs = []\n",
    "\n",
    "for file in files:\n",
    "    df = pd.read_csv(str(file))\n",
    "    dfs.append(df)\n",
    "        \n",
    "# Convert the data to a DataFrame\n",
    "df = pd.concat([x for x in dfs], axis=0)\n",
    "\n",
    "# print(df.head())\n",
    "\n",
    "# Before removing duplicates\n",
    "print(f\"Shape of dataframe before removing duplicates {df.shape}\")\n",
    "# Remove duplicates\n",
    "df = df.drop_duplicates()\n",
    "print(f\"Shape of dataframe after removing duplicates {df.shape}\")\n",
    "\n",
    "# Print out the columns\n",
    "# classes = {\n",
    "#     \"0\": \"unmarked\",\n",
    "#     \"1\": \"rest\",\n",
    "#     \"2\": \"clenched_fist\",\n",
    "#     \"3\": \"wrist_flexion\",\n",
    "#     \"4\": \"wrist_extension\",\n",
    "#     \"5\": \"radial_deviations\",\n",
    "#     \"6\": \"ulnar_deviations\",\n",
    "#     \"7\": \"extended_palm\"\n",
    "# }"
   ]
  },
  {
   "cell_type": "markdown",
   "metadata": {},
   "source": [
    "## Visualise the dataset"
   ]
  },
  {
   "cell_type": "code",
   "execution_count": 13,
   "metadata": {},
   "outputs": [
    {
     "data": {
      "image/png": "[encoded data removed]",
      "text/plain": [
       "<Figure size 1500x800 with 1 Axes>"
      ]
     },
     "metadata": {},
     "output_type": "display_data"
    }
   ],
   "source": [
    "class_counts = df['Label'].value_counts().sort_index()\n",
    "\n",
    "plt.figure(figsize=(15, 8))\n",
    "bars = plt.bar(range(len(class_counts)), class_counts.values)\n",
    "\n",
    "plt.title('EMG Signal Class Distribution', fontsize=14, pad=20)\n",
    "plt.xlabel('Class', fontsize=12)\n",
    "plt.ylabel('Number of Samples', fontsize=12)\n",
    "\n",
    "# Set x-axis ticks with class labels\n",
    "plt.xticks(range(len(class_counts)), [CLASSES[i] for i in range(len(class_counts))], rotation=45, ha='right')\n",
    "\n",
    "# Add value labels on top of each bar\n",
    "for bar in bars:\n",
    "    height = bar.get_height()\n",
    "    plt.text(bar.get_x() + bar.get_width()/2., height,\n",
    "             f'{int(height):,}',\n",
    "             ha='center', va='bottom')\n",
    "\n",
    "plt.tight_layout()\n",
    "plt.show()"
   ]
  },
  {
   "cell_type": "code",
   "execution_count": 14,
   "metadata": {},
   "outputs": [],
   "source": [
    "# # Group data by label and calculate mean for each sensor\n",
    "# sensor_avgs = []\n",
    "# sensor_stds = []\n",
    "\n",
    "# for label in range(8):\n",
    "#     label_data = df[df['Label'] == label].drop('Label', axis=1)\n",
    "#     sensor_avgs.append(label_data.mean().values)\n",
    "#     sensor_stds.append(label_data.std().values)\n",
    "\n",
    "# sensor_avgs = np.array(sensor_avgs)\n",
    "# sensor_stds = np.array(sensor_stds)\n",
    "\n",
    "# # Set up the plot\n",
    "# plt.figure(figsize=(15, 8))\n",
    "\n",
    "# # Plot bars for each gesture\n",
    "# x = np.arange(16)\n",
    "# width = 0.1\n",
    "# for i in range(8):\n",
    "#     plt.bar(x + i*width, sensor_avgs[i], width, \n",
    "#             label=CLASSES[i],\n",
    "#             yerr=sensor_stds[i],\n",
    "#             capsize=2)\n",
    "\n",
    "# # Customize the plot\n",
    "# plt.xlabel('Sensor Number')\n",
    "# plt.ylabel('Average Reading')\n",
    "# plt.title('Average EMG Sensor Readings by Gesture')\n",
    "# plt.xticks(x + width*4, [f'S{i+1}' for i in range(16)])\n",
    "# plt.legend(bbox_to_anchor=(1.05, 1), loc='upper left')\n",
    "# plt.tight_layout()\n",
    "# plt.show()"
   ]
  },
  {
   "cell_type": "code",
   "execution_count": 15,
   "metadata": {},
   "outputs": [],
   "source": [
    "# # Set up the subplot grid for all 16 sensors x 8 classes\n",
    "# fig, axs = plt.subplots(8, 16, figsize=(30, 20))\n",
    "# fig.suptitle('EMG Sensor Data Distribution by Class and Sensor')\n",
    "\n",
    "# bins = np.arange(-128, 129, 16) # Create bins from -128 to 128 in steps of 16\n",
    "\n",
    "# for class_id, class_name in CLASSES.items():\n",
    "#    class_data = df[df['Label'] == class_id]\n",
    "   \n",
    "#    for sensor in range(16):\n",
    "#        sensor_col = f'Sensor{sensor+1}'\n",
    "#        sensor_data = class_data[sensor_col]\n",
    "       \n",
    "#        axs[class_id, sensor].hist(sensor_data, bins=bins)\n",
    "#        axs[class_id, sensor].set_title(f'{CLASSES[class_id]} - {sensor_col}')\n",
    "       \n",
    "#        # Only show y-axis labels for leftmost plots\n",
    "#        if sensor != 0:\n",
    "#            axs[class_id, sensor].set_yticklabels([])\n",
    "           \n",
    "#        # Only show x-axis labels for bottom plots\n",
    "#        if class_id != 7:\n",
    "#            axs[class_id, sensor].set_xticklabels([])\n",
    "\n",
    "# plt.tight_layout()\n",
    "# plt.show()"
   ]
  },
  {
   "cell_type": "markdown",
   "metadata": {},
   "source": [
    "## Scale and clean the data, then train the model"
   ]
  },
  {
   "cell_type": "code",
   "execution_count": 19,
   "metadata": {},
   "outputs": [
    {
     "name": "stderr",
     "output_type": "stream",
     "text": [
      "c:\\Users\\willi\\Desktop\\Uni\\3rd_year\\NLP\\CW1\\.conda\\Lib\\site-packages\\keras\\src\\layers\\core\\dense.py:87: UserWarning: Do not pass an `input_shape`/`input_dim` argument to a layer. When using Sequential models, prefer using an `Input(shape)` object as the first layer in the model instead.\n",
      "  super().__init__(activity_regularizer=activity_regularizer, **kwargs)\n"
     ]
    },
    {
     "name": "stdout",
     "output_type": "stream",
     "text": [
      "Epoch 1/100\n",
      "\u001b[1m2033/2033\u001b[0m \u001b[32m━━━━━━━━━━━━━━━━━━━━\u001b[0m\u001b[37m\u001b[0m \u001b[1m18s\u001b[0m 5ms/step - accuracy: 0.2457 - loss: 1.9730 - val_accuracy: 0.4336 - val_loss: 1.5089\n",
      "Epoch 2/100\n",
      "\u001b[1m2033/2033\u001b[0m \u001b[32m━━━━━━━━━━━━━━━━━━━━\u001b[0m\u001b[37m\u001b[0m \u001b[1m11s\u001b[0m 5ms/step - accuracy: 0.3895 - loss: 1.6035 - val_accuracy: 0.4776 - val_loss: 1.4008\n",
      "Epoch 3/100\n",
      "\u001b[1m2033/2033\u001b[0m \u001b[32m━━━━━━━━━━━━━━━━━━━━\u001b[0m\u001b[37m\u001b[0m \u001b[1m11s\u001b[0m 5ms/step - accuracy: 0.4250 - loss: 1.5208 - val_accuracy: 0.5114 - val_loss: 1.3488\n",
      "Epoch 4/100\n",
      "\u001b[1m2033/2033\u001b[0m \u001b[32m━━━━━━━━━━━━━━━━━━━━\u001b[0m\u001b[37m\u001b[0m \u001b[1m9s\u001b[0m 4ms/step - accuracy: 0.4506 - loss: 1.4656 - val_accuracy: 0.5212 - val_loss: 1.3166\n",
      "Epoch 5/100\n",
      "\u001b[1m2033/2033\u001b[0m \u001b[32m━━━━━━━━━━━━━━━━━━━━\u001b[0m\u001b[37m\u001b[0m \u001b[1m10s\u001b[0m 5ms/step - accuracy: 0.4621 - loss: 1.4420 - val_accuracy: 0.5351 - val_loss: 1.3035\n",
      "Epoch 6/100\n",
      "\u001b[1m2033/2033\u001b[0m \u001b[32m━━━━━━━━━━━━━━━━━━━━\u001b[0m\u001b[37m\u001b[0m \u001b[1m10s\u001b[0m 5ms/step - accuracy: 0.4719 - loss: 1.4176 - val_accuracy: 0.5432 - val_loss: 1.2775\n",
      "Epoch 7/100\n",
      "\u001b[1m2033/2033\u001b[0m \u001b[32m━━━━━━━━━━━━━━━━━━━━\u001b[0m\u001b[37m\u001b[0m \u001b[1m9s\u001b[0m 5ms/step - accuracy: 0.4800 - loss: 1.4095 - val_accuracy: 0.5496 - val_loss: 1.2781\n",
      "Epoch 8/100\n",
      "\u001b[1m2033/2033\u001b[0m \u001b[32m━━━━━━━━━━━━━━━━━━━━\u001b[0m\u001b[37m\u001b[0m \u001b[1m9s\u001b[0m 4ms/step - accuracy: 0.4887 - loss: 1.3928 - val_accuracy: 0.5716 - val_loss: 1.2490\n",
      "Epoch 9/100\n",
      "\u001b[1m2033/2033\u001b[0m \u001b[32m━━━━━━━━━━━━━━━━━━━━\u001b[0m\u001b[37m\u001b[0m \u001b[1m9s\u001b[0m 4ms/step - accuracy: 0.4938 - loss: 1.3762 - val_accuracy: 0.5719 - val_loss: 1.2418\n",
      "Epoch 10/100\n",
      "\u001b[1m2033/2033\u001b[0m \u001b[32m━━━━━━━━━━━━━━━━━━━━\u001b[0m\u001b[37m\u001b[0m \u001b[1m9s\u001b[0m 5ms/step - accuracy: 0.4968 - loss: 1.3721 - val_accuracy: 0.5790 - val_loss: 1.2270\n",
      "Epoch 11/100\n",
      "\u001b[1m2033/2033\u001b[0m \u001b[32m━━━━━━━━━━━━━━━━━━━━\u001b[0m\u001b[37m\u001b[0m \u001b[1m11s\u001b[0m 5ms/step - accuracy: 0.5008 - loss: 1.3661 - val_accuracy: 0.5725 - val_loss: 1.2298\n",
      "Epoch 12/100\n",
      "\u001b[1m2033/2033\u001b[0m \u001b[32m━━━━━━━━━━━━━━━━━━━━\u001b[0m\u001b[37m\u001b[0m \u001b[1m10s\u001b[0m 5ms/step - accuracy: 0.5034 - loss: 1.3595 - val_accuracy: 0.5877 - val_loss: 1.2030\n",
      "Epoch 13/100\n",
      "\u001b[1m2033/2033\u001b[0m \u001b[32m━━━━━━━━━━━━━━━━━━━━\u001b[0m\u001b[37m\u001b[0m \u001b[1m10s\u001b[0m 5ms/step - accuracy: 0.5072 - loss: 1.3493 - val_accuracy: 0.5795 - val_loss: 1.2145\n",
      "Epoch 14/100\n",
      "\u001b[1m2033/2033\u001b[0m \u001b[32m━━━━━━━━━━━━━━━━━━━━\u001b[0m\u001b[37m\u001b[0m \u001b[1m10s\u001b[0m 5ms/step - accuracy: 0.5073 - loss: 1.3495 - val_accuracy: 0.5758 - val_loss: 1.2376\n",
      "Epoch 15/100\n",
      "\u001b[1m2033/2033\u001b[0m \u001b[32m━━━━━━━━━━━━━━━━━━━━\u001b[0m\u001b[37m\u001b[0m \u001b[1m10s\u001b[0m 5ms/step - accuracy: 0.5083 - loss: 1.3434 - val_accuracy: 0.5854 - val_loss: 1.2058\n",
      "Epoch 16/100\n",
      "\u001b[1m2033/2033\u001b[0m \u001b[32m━━━━━━━━━━━━━━━━━━━━\u001b[0m\u001b[37m\u001b[0m \u001b[1m7s\u001b[0m 3ms/step - accuracy: 0.5107 - loss: 1.3503 - val_accuracy: 0.5819 - val_loss: 1.2196\n",
      "Epoch 17/100\n",
      "\u001b[1m2033/2033\u001b[0m \u001b[32m━━━━━━━━━━━━━━━━━━━━\u001b[0m\u001b[37m\u001b[0m \u001b[1m18s\u001b[0m 7ms/step - accuracy: 0.5150 - loss: 1.3336 - val_accuracy: 0.5933 - val_loss: 1.1970\n",
      "Epoch 18/100\n",
      "\u001b[1m2033/2033\u001b[0m \u001b[32m━━━━━━━━━━━━━━━━━━━━\u001b[0m\u001b[37m\u001b[0m \u001b[1m13s\u001b[0m 6ms/step - accuracy: 0.5170 - loss: 1.3313 - val_accuracy: 0.5854 - val_loss: 1.2076\n",
      "Epoch 19/100\n",
      "\u001b[1m2033/2033\u001b[0m \u001b[32m━━━━━━━━━━━━━━━━━━━━\u001b[0m\u001b[37m\u001b[0m \u001b[1m14s\u001b[0m 7ms/step - accuracy: 0.5130 - loss: 1.3316 - val_accuracy: 0.5839 - val_loss: 1.2089\n",
      "Epoch 20/100\n",
      "\u001b[1m2033/2033\u001b[0m \u001b[32m━━━━━━━━━━━━━━━━━━━━\u001b[0m\u001b[37m\u001b[0m \u001b[1m11s\u001b[0m 5ms/step - accuracy: 0.5198 - loss: 1.3306 - val_accuracy: 0.5941 - val_loss: 1.1772\n",
      "Epoch 21/100\n",
      "\u001b[1m2033/2033\u001b[0m \u001b[32m━━━━━━━━━━━━━━━━━━━━\u001b[0m\u001b[37m\u001b[0m \u001b[1m25s\u001b[0m 7ms/step - accuracy: 0.5190 - loss: 1.3179 - val_accuracy: 0.5958 - val_loss: 1.1826\n",
      "Epoch 22/100\n",
      "\u001b[1m2033/2033\u001b[0m \u001b[32m━━━━━━━━━━━━━━━━━━━━\u001b[0m\u001b[37m\u001b[0m \u001b[1m25s\u001b[0m 9ms/step - accuracy: 0.5191 - loss: 1.3219 - val_accuracy: 0.5857 - val_loss: 1.2037\n",
      "Epoch 23/100\n",
      "\u001b[1m2033/2033\u001b[0m \u001b[32m━━━━━━━━━━━━━━━━━━━━\u001b[0m\u001b[37m\u001b[0m \u001b[1m20s\u001b[0m 10ms/step - accuracy: 0.5204 - loss: 1.3183 - val_accuracy: 0.5854 - val_loss: 1.1990\n",
      "Epoch 24/100\n",
      "\u001b[1m2033/2033\u001b[0m \u001b[32m━━━━━━━━━━━━━━━━━━━━\u001b[0m\u001b[37m\u001b[0m \u001b[1m24s\u001b[0m 12ms/step - accuracy: 0.5231 - loss: 1.3195 - val_accuracy: 0.5956 - val_loss: 1.1904\n",
      "Epoch 25/100\n",
      "\u001b[1m2033/2033\u001b[0m \u001b[32m━━━━━━━━━━━━━━━━━━━━\u001b[0m\u001b[37m\u001b[0m \u001b[1m21s\u001b[0m 10ms/step - accuracy: 0.5195 - loss: 1.3239 - val_accuracy: 0.5940 - val_loss: 1.1859\n",
      "Epoch 26/100\n",
      "\u001b[1m2033/2033\u001b[0m \u001b[32m━━━━━━━━━━━━━━━━━━━━\u001b[0m\u001b[37m\u001b[0m \u001b[1m23s\u001b[0m 11ms/step - accuracy: 0.5231 - loss: 1.3149 - val_accuracy: 0.5957 - val_loss: 1.2061\n",
      "Epoch 27/100\n",
      "\u001b[1m2033/2033\u001b[0m \u001b[32m━━━━━━━━━━━━━━━━━━━━\u001b[0m\u001b[37m\u001b[0m \u001b[1m19s\u001b[0m 9ms/step - accuracy: 0.5243 - loss: 1.3098 - val_accuracy: 0.5890 - val_loss: 1.2157\n",
      "Epoch 28/100\n",
      "\u001b[1m2033/2033\u001b[0m \u001b[32m━━━━━━━━━━━━━━━━━━━━\u001b[0m\u001b[37m\u001b[0m \u001b[1m22s\u001b[0m 11ms/step - accuracy: 0.5240 - loss: 1.3139 - val_accuracy: 0.6007 - val_loss: 1.1773\n",
      "Epoch 29/100\n",
      "\u001b[1m2033/2033\u001b[0m \u001b[32m━━━━━━━━━━━━━━━━━━━━\u001b[0m\u001b[37m\u001b[0m \u001b[1m17s\u001b[0m 8ms/step - accuracy: 0.5233 - loss: 1.3127 - val_accuracy: 0.5962 - val_loss: 1.1780\n",
      "Epoch 30/100\n",
      "\u001b[1m2033/2033\u001b[0m \u001b[32m━━━━━━━━━━━━━━━━━━━━\u001b[0m\u001b[37m\u001b[0m \u001b[1m21s\u001b[0m 10ms/step - accuracy: 0.5209 - loss: 1.3138 - val_accuracy: 0.6002 - val_loss: 1.1704\n",
      "Epoch 31/100\n",
      "\u001b[1m2033/2033\u001b[0m \u001b[32m━━━━━━━━━━━━━━━━━━━━\u001b[0m\u001b[37m\u001b[0m \u001b[1m20s\u001b[0m 10ms/step - accuracy: 0.5242 - loss: 1.3126 - val_accuracy: 0.5997 - val_loss: 1.1681\n",
      "Epoch 32/100\n",
      "\u001b[1m2033/2033\u001b[0m \u001b[32m━━━━━━━━━━━━━━━━━━━━\u001b[0m\u001b[37m\u001b[0m \u001b[1m19s\u001b[0m 9ms/step - accuracy: 0.5236 - loss: 1.3095 - val_accuracy: 0.5911 - val_loss: 1.1943\n",
      "Epoch 33/100\n",
      "\u001b[1m2033/2033\u001b[0m \u001b[32m━━━━━━━━━━━━━━━━━━━━\u001b[0m\u001b[37m\u001b[0m \u001b[1m19s\u001b[0m 9ms/step - accuracy: 0.5279 - loss: 1.3095 - val_accuracy: 0.5973 - val_loss: 1.1776\n",
      "Epoch 34/100\n",
      "\u001b[1m2033/2033\u001b[0m \u001b[32m━━━━━━━━━━━━━━━━━━━━\u001b[0m\u001b[37m\u001b[0m \u001b[1m18s\u001b[0m 9ms/step - accuracy: 0.5276 - loss: 1.3030 - val_accuracy: 0.5987 - val_loss: 1.1857\n",
      "Epoch 35/100\n",
      "\u001b[1m2033/2033\u001b[0m \u001b[32m━━━━━━━━━━━━━━━━━━━━\u001b[0m\u001b[37m\u001b[0m \u001b[1m23s\u001b[0m 11ms/step - accuracy: 0.5258 - loss: 1.3076 - val_accuracy: 0.6039 - val_loss: 1.1650\n",
      "Epoch 36/100\n",
      "\u001b[1m2033/2033\u001b[0m \u001b[32m━━━━━━━━━━━━━━━━━━━━\u001b[0m\u001b[37m\u001b[0m \u001b[1m12s\u001b[0m 6ms/step - accuracy: 0.5326 - loss: 1.2944 - val_accuracy: 0.5962 - val_loss: 1.1912\n",
      "Epoch 37/100\n",
      "\u001b[1m2033/2033\u001b[0m \u001b[32m━━━━━━━━━━━━━━━━━━━━\u001b[0m\u001b[37m\u001b[0m \u001b[1m9s\u001b[0m 4ms/step - accuracy: 0.5252 - loss: 1.3090 - val_accuracy: 0.6017 - val_loss: 1.1758\n",
      "Epoch 38/100\n",
      "\u001b[1m2033/2033\u001b[0m \u001b[32m━━━━━━━━━━━━━━━━━━━━\u001b[0m\u001b[37m\u001b[0m \u001b[1m10s\u001b[0m 5ms/step - accuracy: 0.5314 - loss: 1.2926 - val_accuracy: 0.5977 - val_loss: 1.1874\n",
      "Epoch 39/100\n",
      "\u001b[1m2033/2033\u001b[0m \u001b[32m━━━━━━━━━━━━━━━━━━━━\u001b[0m\u001b[37m\u001b[0m \u001b[1m8s\u001b[0m 4ms/step - accuracy: 0.5265 - loss: 1.3035 - val_accuracy: 0.6053 - val_loss: 1.1674\n",
      "Epoch 40/100\n",
      "\u001b[1m2033/2033\u001b[0m \u001b[32m━━━━━━━━━━━━━━━━━━━━\u001b[0m\u001b[37m\u001b[0m \u001b[1m8s\u001b[0m 4ms/step - accuracy: 0.5284 - loss: 1.2982 - val_accuracy: 0.6119 - val_loss: 1.1558\n",
      "Epoch 41/100\n",
      "\u001b[1m2033/2033\u001b[0m \u001b[32m━━━━━━━━━━━━━━━━━━━━\u001b[0m\u001b[37m\u001b[0m \u001b[1m9s\u001b[0m 5ms/step - accuracy: 0.5308 - loss: 1.3019 - val_accuracy: 0.6175 - val_loss: 1.1495\n",
      "Epoch 42/100\n",
      "\u001b[1m2033/2033\u001b[0m \u001b[32m━━━━━━━━━━━━━━━━━━━━\u001b[0m\u001b[37m\u001b[0m \u001b[1m9s\u001b[0m 4ms/step - accuracy: 0.5295 - loss: 1.3014 - val_accuracy: 0.6115 - val_loss: 1.1591\n",
      "Epoch 43/100\n",
      "\u001b[1m2033/2033\u001b[0m \u001b[32m━━━━━━━━━━━━━━━━━━━━\u001b[0m\u001b[37m\u001b[0m \u001b[1m10s\u001b[0m 5ms/step - accuracy: 0.5306 - loss: 1.3000 - val_accuracy: 0.5997 - val_loss: 1.1873\n",
      "Epoch 44/100\n",
      "\u001b[1m2033/2033\u001b[0m \u001b[32m━━━━━━━━━━━━━━━━━━━━\u001b[0m\u001b[37m\u001b[0m \u001b[1m9s\u001b[0m 4ms/step - accuracy: 0.5271 - loss: 1.3061 - val_accuracy: 0.6106 - val_loss: 1.1697\n",
      "Epoch 45/100\n",
      "\u001b[1m2033/2033\u001b[0m \u001b[32m━━━━━━━━━━━━━━━━━━━━\u001b[0m\u001b[37m\u001b[0m \u001b[1m9s\u001b[0m 4ms/step - accuracy: 0.5271 - loss: 1.3001 - val_accuracy: 0.6138 - val_loss: 1.1640\n",
      "Epoch 46/100\n",
      "\u001b[1m2033/2033\u001b[0m \u001b[32m━━━━━━━━━━━━━━━━━━━━\u001b[0m\u001b[37m\u001b[0m \u001b[1m11s\u001b[0m 5ms/step - accuracy: 0.5226 - loss: 1.3043 - val_accuracy: 0.5838 - val_loss: 1.2102\n",
      "Epoch 47/100\n",
      "\u001b[1m2033/2033\u001b[0m \u001b[32m━━━━━━━━━━━━━━━━━━━━\u001b[0m\u001b[37m\u001b[0m \u001b[1m10s\u001b[0m 5ms/step - accuracy: 0.5338 - loss: 1.2908 - val_accuracy: 0.5945 - val_loss: 1.1927\n",
      "Epoch 48/100\n",
      "\u001b[1m2033/2033\u001b[0m \u001b[32m━━━━━━━━━━━━━━━━━━━━\u001b[0m\u001b[37m\u001b[0m \u001b[1m10s\u001b[0m 5ms/step - accuracy: 0.5337 - loss: 1.2893 - val_accuracy: 0.6048 - val_loss: 1.1837\n",
      "Epoch 49/100\n",
      "\u001b[1m2033/2033\u001b[0m \u001b[32m━━━━━━━━━━━━━━━━━━━━\u001b[0m\u001b[37m\u001b[0m \u001b[1m11s\u001b[0m 5ms/step - accuracy: 0.5370 - loss: 1.2844 - val_accuracy: 0.6064 - val_loss: 1.1705\n",
      "Epoch 50/100\n",
      "\u001b[1m2033/2033\u001b[0m \u001b[32m━━━━━━━━━━━━━━━━━━━━\u001b[0m\u001b[37m\u001b[0m \u001b[1m10s\u001b[0m 5ms/step - accuracy: 0.5320 - loss: 1.2945 - val_accuracy: 0.6099 - val_loss: 1.1667\n",
      "Epoch 51/100\n",
      "\u001b[1m2033/2033\u001b[0m \u001b[32m━━━━━━━━━━━━━━━━━━━━\u001b[0m\u001b[37m\u001b[0m \u001b[1m9s\u001b[0m 4ms/step - accuracy: 0.5303 - loss: 1.2978 - val_accuracy: 0.5988 - val_loss: 1.1861\n",
      "\u001b[1m636/636\u001b[0m \u001b[32m━━━━━━━━━━━━━━━━━━━━\u001b[0m\u001b[37m\u001b[0m \u001b[1m2s\u001b[0m 4ms/step - accuracy: 0.6175 - loss: 1.1508\n",
      "Test accuracy for sequential model: 0.6141585111618042\n",
      "Time taken for sequential model: 695.8745672702789\n"
     ]
    }
   ],
   "source": [
    "X = df.drop(columns=['Label'])\n",
    "y = df['Label']\n",
    "\n",
    "X_train, X_test, y_train, y_test = train_test_split(X, y, test_size=0.2, random_state=42)\n",
    "\n",
    "# scale the features\n",
    "scaler = StandardScaler()\n",
    "X_train_scaled = scaler.fit_transform(X_train)\n",
    "X_test_scaled = scaler.transform(X_test)\n",
    "\n",
    "# filter for valid classes because the data is not clean\n",
    "valid_classes = [0, 1, 2, 3, 4, 5, 6, 7]\n",
    "mask_train = y_train.isin(valid_classes)\n",
    "mask_test = y_test.isin(valid_classes)\n",
    "\n",
    "# apply the mask to the training and testing data\n",
    "X_train_filtered = X_train_scaled[mask_train]\n",
    "y_train_filtered = y_train[mask_train]\n",
    "\n",
    "X_test_filtered = X_test_scaled[mask_test]\n",
    "y_test_filtered = y_test[mask_test]\n",
    "\n",
    "model = Sequential([\n",
    "    Dense(64, activation='relu', input_shape=(X_train_filtered.shape[1],)),\n",
    "    BatchNormalization(),\n",
    "    Dropout(0.3),\n",
    "    Dense(32, activation='relu'),\n",
    "    BatchNormalization(),\n",
    "    Dropout(0.3),\n",
    "    Dense(16, activation='relu'),\n",
    "    Dense(8, activation='softmax')\n",
    "])\n",
    "\n",
    "model.compile(optimizer=Adam(learning_rate=0.001), \n",
    "              loss='sparse_categorical_crossentropy', \n",
    "              metrics=['accuracy'])\n",
    "\n",
    "early_stopping = EarlyStopping(monitor='val_loss', patience=10, restore_best_weights=True)\n",
    "\n",
    "start_sequential_time = time.time()\n",
    "history = model.fit(X_train_filtered, y_train_filtered, \n",
    "                    epochs=100, \n",
    "                    batch_size=32, \n",
    "                    validation_split=0.2,\n",
    "                    callbacks=[early_stopping])\n",
    "\n",
    "test_loss, test_acc = model.evaluate(X_test_filtered, y_test_filtered)\n",
    "end_sequential_time = time.time()\n",
    "print(f\"Test accuracy for sequential model: {test_acc}\")\n",
    "print(f\"Time taken for sequential model: {end_sequential_time - start_sequential_time}\")"
   ]
  },
  {
   "cell_type": "code",
   "execution_count": 20,
   "metadata": {},
   "outputs": [
    {
     "name": "stderr",
     "output_type": "stream",
     "text": [
      "c:\\Users\\willi\\Desktop\\Uni\\3rd_year\\NLP\\CW1\\.conda\\Lib\\site-packages\\xgboost\\core.py:158: UserWarning: [14:42:38] WARNING: C:\\buildkite-agent\\builds\\buildkite-windows-cpu-autoscaling-group-i-0ed59c031377d09b8-1\\xgboost\\xgboost-ci-windows\\src\\learner.cc:740: \n",
      "Parameters: { \"use_label_encoder\" } are not used.\n",
      "\n",
      "  warnings.warn(smsg, UserWarning)\n"
     ]
    },
    {
     "name": "stdout",
     "output_type": "stream",
     "text": [
      "Test accuracy using XGBoost: 0.6393958774044375\n",
      "Time taken for XGBoost: 277.4623034000397\n"
     ]
    }
   ],
   "source": [
    "# Create and train the XGBoost model\n",
    "start_xgb_time = time.time()\n",
    "xgb_model = XGBClassifier(use_label_encoder=False, eval_metric='mlogloss')\n",
    "xgb_model.fit(X_train_filtered, y_train_filtered)\n",
    "\n",
    "# Evaluate the model\n",
    "test_acc = xgb_model.score(X_test_filtered, y_test_filtered)\n",
    "end_xgb_time = time.time()\n",
    "print(f\"Test accuracy using XGBoost: {test_acc}\")\n",
    "print(f\"Time taken for XGBoost: {end_xgb_time - start_xgb_time}\")"
   ]
  },
  {
   "cell_type": "code",
   "execution_count": 21,
   "metadata": {},
   "outputs": [
    {
     "name": "stdout",
     "output_type": "stream",
     "text": [
      "Test accuracy using Random Forest: 0.6295567471835489\n",
      "Time taken for Random Forest: 58.85395383834839\n"
     ]
    }
   ],
   "source": [
    "from sklearn.ensemble import RandomForestClassifier\n",
    "from sklearn.metrics import accuracy_score\n",
    "\n",
    "start_rf_time = time.time()\n",
    "rf_model = RandomForestClassifier(n_estimators=100, random_state=42)\n",
    "rf_model.fit(X_train_filtered, y_train_filtered)\n",
    "end_rf_time = time.time()\n",
    "\n",
    "y_pred_rf = rf_model.predict(X_test_filtered)\n",
    "test_acc_rf = accuracy_score(y_test_filtered, y_pred_rf)\n",
    "print(f\"Test accuracy using Random Forest: {test_acc_rf}\")\n",
    "print(f\"Time taken for Random Forest: {end_rf_time - start_rf_time}\")"
   ]
  },
  {
   "cell_type": "code",
   "execution_count": 23,
   "metadata": {},
   "outputs": [],
   "source": [
    "# # Save the model\n",
    "# xgb_model.save(MODEL_PATH)\n",
    "\n",
    "# # Save the scaler and the column names to a pickle file\n",
    "# with open(METADATA_PATH, 'wb') as f:\n",
    "#     pickle.dump((scaler, X_train.columns), f)"
   ]
  },
  {
   "cell_type": "code",
   "execution_count": null,
   "metadata": {},
   "outputs": [
    {
     "name": "stdout",
     "output_type": "stream",
     "text": [
      "\u001b[1m1/1\u001b[0m \u001b[32m━━━━━━━━━━━━━━━━━━━━\u001b[0m\u001b[37m\u001b[0m \u001b[1m0s\u001b[0m 109ms/step\n",
      "Predicted class: 3 - ok\n"
     ]
    }
   ],
   "source": [
    "# emg_data = [[2,-11,-11,-38,-26,-1,-3,-11,], [-2,4,14,26,45,66,19,25]]\n",
    "# emg_data = [[-4,2,2,1,-29,10,-1,-4], [4,-3,-4,9,6,2,2,-2]]\n",
    "emg_data = [[-7,-9,-14,-55,-117,-25,-11], [-8,8,8,20,50,98,9,12,5]]\n",
    "\n",
    "# emg_data = [[0, 0, 0, 0, 100, 0, 0, 0], [0, 0, 0, 0, 100, 0, 0, 0]]\n",
    "\n",
    "sensor1_data, sensor2_data = emg_data\n",
    "\n",
    "emg_features = np.concatenate((sensor1_data, sensor2_data))\n",
    "emg_features_df = pd.DataFrame([emg_features], columns=X_train.columns)\n",
    "\n",
    "emg_features_scaled = scaler.transform(emg_features_df)\n",
    "emg_features_reshaped = emg_features_scaled.reshape(1, -1)\n",
    "\n",
    "prediction = model.predict(emg_features_reshaped)\n",
    "predicted_class = np.argmax(prediction)\n",
    "\n",
    "# print(f\"Probabilities: {prediction}\")\n",
    "\n",
    "print(f\"Predicted class: {predicted_class} - {CLASSES[predicted_class]}\")\n"
   ]
  }
 ],
 "metadata": {
  "kernelspec": {
   "display_name": "Python 3",
   "language": "python",
   "name": "python3"
  },
  "language_info": {
   "codemirror_mode": {
    "name": "ipython",
    "version": 3
   },
   "file_extension": ".py",
   "mimetype": "text/x-python",
   "name": "python",
   "nbconvert_exporter": "python",
   "pygments_lexer": "ipython3",
   "version": "3.11.10"
  }
 },
 "nbformat": 4,
 "nbformat_minor": 2
}
